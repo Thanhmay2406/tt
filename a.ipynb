{
 "cells": [
  {
   "cell_type": "markdown",
   "id": "b9faa922",
   "metadata": {},
   "source": [
    "kiem thu"
   ]
  },
  {
   "cell_type": "code",
   "execution_count": 2,
   "id": "6067243b",
   "metadata": {},
   "outputs": [],
   "source": [
    "import numpy as np\n",
    "import scipy.stats as st\n",
    "import math"
   ]
  },
  {
   "cell_type": "code",
   "execution_count": 3,
   "id": "f4de61ec",
   "metadata": {},
   "outputs": [],
   "source": [
    "data = [3.25, 2.50, 4.00, 3.75, 3.80, 3.90, 4.02, 3.60, 3.80, 3.20, 3.82, 3.40, 3.75, 4.00, 3.50]"
   ]
  },
  {
   "cell_type": "code",
   "execution_count": null,
   "id": "4a739a35",
   "metadata": {},
   "outputs": [],
   "source": []
  }
 ],
 "metadata": {
  "kernelspec": {
   "display_name": "Python 3",
   "language": "python",
   "name": "python3"
  },
  "language_info": {
   "codemirror_mode": {
    "name": "ipython",
    "version": 3
   },
   "file_extension": ".py",
   "mimetype": "text/x-python",
   "name": "python",
   "nbconvert_exporter": "python",
   "pygments_lexer": "ipython3",
   "version": "3.12.0"
  }
 },
 "nbformat": 4,
 "nbformat_minor": 5
}
