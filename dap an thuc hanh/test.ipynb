{
 "cells": [
  {
   "cell_type": "code",
   "execution_count": 1,
   "metadata": {},
   "outputs": [],
   "source": [
    "import numpy as np\n",
    "import math\n",
    "from scipy import stats as stats\n",
    "import matplotlib.pyplot as plt"
   ]
  },
  {
   "cell_type": "code",
   "execution_count": 3,
   "metadata": {},
   "outputs": [
    {
     "name": "stdout",
     "output_type": "stream",
     "text": [
      "[186 182 157 158 152]\n",
      "chieu cao trung binh cua quan the: 167.0\n",
      "lay ngau nhien mau co kich thuoc 4 tu quan the: [157 158 186 182]\n",
      "chieu cao trung binh cua mau: 170.75\n",
      "sai so uoc luong 3.75\n"
     ]
    }
   ],
   "source": [
    "population = np.array([186, 182, 157, 158, 152]);\n",
    "print(population);\n",
    "print(f'chieu cao trung binh cua quan the: {np.mean(population)}')\n",
    "\n",
    "np.random.seed(24)\n",
    "sample1 = np.random.choice(population, size = 4, replace = True)\n",
    "print(f'lay ngau nhien mau co kich thuoc 4 tu quan the: {sample1}')\n",
    "print(f'chieu cao trung binh cua mau: {np.mean(sample1)}');\n",
    "print(f'sai so uoc luong {abs(np.mean(sample1) - np.mean(population))}')"
   ]
  },
  {
   "cell_type": "code",
   "execution_count": null,
   "metadata": {},
   "outputs": [],
   "source": []
  }
 ],
 "metadata": {
  "kernelspec": {
   "display_name": "Python 3",
   "language": "python",
   "name": "python3"
  },
  "language_info": {
   "codemirror_mode": {
    "name": "ipython",
    "version": 3
   },
   "file_extension": ".py",
   "mimetype": "text/x-python",
   "name": "python",
   "nbconvert_exporter": "python",
   "pygments_lexer": "ipython3",
   "version": "3.12.0"
  }
 },
 "nbformat": 4,
 "nbformat_minor": 2
}
